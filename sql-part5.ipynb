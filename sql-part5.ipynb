{
    "metadata": {
        "kernelspec": {
            "name": "SQL",
            "display_name": "SQL",
            "language": "sql"
        },
        "language_info": {
            "name": "sql",
            "version": ""
        }
    },
    "nbformat_minor": 2,
    "nbformat": 4,
    "cells": [
        {
            "cell_type": "markdown",
            "source": [
                "# Exercises: Creating, Updating, and Destroying Objects\n",
                "\n",
                "For the exercises, you will be working with objects and data you create. Before opening this notebook, make sure that you have set up the new connection to the server and that you have located the database and your schema.\n",
                "\n",
                "## Object Creation\n",
                "\n",
                "Before coding, think of three things you want to make. These could be coding projects, new recipes, or planned projects for a woodworking hobby. Brainstorm the appropriate column names and data types as well.\n",
                "\n",
                "Create a table under your schema called `planned_makes`."
            ],
            "metadata": {
                "azdata_cell_guid": "9d51c166-0c19-4f27-a422-2a6cf596bfb2"
            },
            "attachments": {}
        },
        {
            "cell_type": "code",
            "source": [
                "CREATE TABLE JunkDB_STL_May2023.rachel.planned_makes (\n",
                "    plant VARCHAR(50) PRIMARY KEY,\n",
                "    yard_location VARCHAR(50),\n",
                "    quantity INT,\n",
                "    plant_description VARCHAR(250)\n",
                ");"
            ],
            "metadata": {
                "azdata_cell_guid": "d9238911-6f81-4f01-980d-b584307effaf",
                "language": "sql",
                "tags": []
            },
            "outputs": [
                {
                    "output_type": "display_data",
                    "data": {
                        "text/html": "Commands completed successfully."
                    },
                    "metadata": {}
                },
                {
                    "output_type": "display_data",
                    "data": {
                        "text/html": "Total execution time: 00:00:00.037"
                    },
                    "metadata": {}
                }
            ],
            "execution_count": 17
        },
        {
            "cell_type": "markdown",
            "source": [
                "Add three rows to your table that are your planned makes."
            ],
            "metadata": {
                "azdata_cell_guid": "83cdf34d-8c4f-4fa1-a14e-77384b19d734"
            }
        },
        {
            "cell_type": "code",
            "source": [
                "INSERT INTO JunkDB_STL_May2023.rachel.planned_makes (plant, yard_location, quantity, plant_description)\n",
                "VALUES ('Bottlebrush Buckeye', 'back hedge', 2, 'Purchased Greenscapes July 2023. Shade-loving. Blooms all summer.'),\n",
                "    ('Dragonwing Begonia', 'front hedge', 90, 'Annual. Purchased from Rolling Ridge. Easy to propogate'),\n",
                "    ('Oak Leaf Hydrangea', 'back hedge', 1, 'Inherited. Did not tolerate cold snap.');"
            ],
            "metadata": {
                "azdata_cell_guid": "e7cff9cb-87ba-4c7b-98f2-eaf445e8719c",
                "language": "sql"
            },
            "outputs": [
                {
                    "output_type": "error",
                    "evalue": "Msg 2627, Level 14, State 1, Line 1\nViolation of PRIMARY KEY constraint 'PK__planned___0C055C67BAE3F15D'. Cannot insert duplicate key in object 'rachel.planned_makes'. The duplicate key value is (Bottlebrush Buckeye).",
                    "ename": "",
                    "traceback": []
                },
                {
                    "output_type": "display_data",
                    "data": {
                        "text/html": "The statement has been terminated."
                    },
                    "metadata": {}
                },
                {
                    "output_type": "display_data",
                    "data": {
                        "text/html": "Total execution time: 00:00:00.095"
                    },
                    "metadata": {}
                }
            ],
            "execution_count": 1
        },
        {
            "cell_type": "markdown",
            "source": [
                "## Update a Row\n",
                "\n",
                "Change different values in one of your three rows."
            ],
            "metadata": {
                "azdata_cell_guid": "4a39b8d4-ae97-4e09-8336-c5fc6a00d76c"
            },
            "attachments": {}
        },
        {
            "cell_type": "code",
            "source": [
                "UPDATE JunkDB_STL_May2023.rachel.planned_makes\n",
                "SET plant_description = 'Purchased Greenscapes July 2023. Shade-loving. Blooms all early-mid summer. Third purchased for pond.'\n",
                "WHERE plant = 'Bottlebrush Buckeye'"
            ],
            "metadata": {
                "azdata_cell_guid": "7409c695-9581-4ad8-b03a-574d2c4c87cb",
                "language": "sql"
            },
            "outputs": [
                {
                    "output_type": "display_data",
                    "data": {
                        "text/html": "(1 row affected)"
                    },
                    "metadata": {}
                },
                {
                    "output_type": "display_data",
                    "data": {
                        "text/html": "Total execution time: 00:00:00.084"
                    },
                    "metadata": {}
                }
            ],
            "execution_count": 2
        },
        {
            "cell_type": "markdown",
            "source": [
                "## Delete a Row\n",
                "\n",
                "Delete one of the rows from your table."
            ],
            "metadata": {
                "azdata_cell_guid": "95e91a6e-9038-42d9-9401-5738842aba17"
            }
        },
        {
            "cell_type": "code",
            "source": [
                "DELETE FROM JunkDB_STL_May2023.rachel.planned_makes\n",
                "WHERE\n",
                "    plant = 'Dragonwing Begonia'"
            ],
            "metadata": {
                "azdata_cell_guid": "749c748f-19b5-4c69-9004-b6b20216616a",
                "language": "sql"
            },
            "outputs": [
                {
                    "output_type": "display_data",
                    "data": {
                        "text/html": "(1 row affected)"
                    },
                    "metadata": {}
                },
                {
                    "output_type": "display_data",
                    "data": {
                        "text/html": "Total execution time: 00:00:00.076"
                    },
                    "metadata": {}
                }
            ],
            "execution_count": 3
        },
        {
            "cell_type": "code",
            "source": [
                "SELECT * FROM JunkDB_STL_May2023.rachel.planned_makes"
            ],
            "metadata": {
                "language": "sql",
                "azdata_cell_guid": "52a0f407-7212-45c2-8164-8420f904b0b7"
            },
            "outputs": [
                {
                    "output_type": "display_data",
                    "data": {
                        "text/html": "(2 rows affected)"
                    },
                    "metadata": {}
                },
                {
                    "output_type": "display_data",
                    "data": {
                        "text/html": "Total execution time: 00:00:00.085"
                    },
                    "metadata": {}
                },
                {
                    "output_type": "execute_result",
                    "metadata": {},
                    "execution_count": 4,
                    "data": {
                        "application/vnd.dataresource+json": {
                            "schema": {
                                "fields": [
                                    {
                                        "name": "plant"
                                    },
                                    {
                                        "name": "yard_location"
                                    },
                                    {
                                        "name": "quantity"
                                    },
                                    {
                                        "name": "plant_description"
                                    }
                                ]
                            },
                            "data": [
                                {
                                    "plant": "Bottlebrush Buckeye",
                                    "yard_location": "back hedge",
                                    "quantity": "2",
                                    "plant_description": "Purchased Greenscapes July 2023. Shade-loving. Blooms all early-mid summer. Third purchased for pond."
                                },
                                {
                                    "plant": "Oak Leaf Hydrangea",
                                    "yard_location": "back hedge",
                                    "quantity": "1",
                                    "plant_description": "Inherited. Did not tolerate cold snap."
                                }
                            ]
                        },
                        "text/html": [
                            "<table>",
                            "<tr><th>plant</th><th>yard_location</th><th>quantity</th><th>plant_description</th></tr>",
                            "<tr><td>Bottlebrush Buckeye</td><td>back hedge</td><td>2</td><td>Purchased Greenscapes July 2023. Shade-loving. Blooms all early-mid summer. Third purchased for pond.</td></tr>",
                            "<tr><td>Oak Leaf Hydrangea</td><td>back hedge</td><td>1</td><td>Inherited. Did not tolerate cold snap.</td></tr>",
                            "</table>"
                        ]
                    }
                }
            ],
            "execution_count": 4
        },
        {
            "cell_type": "markdown",
            "source": [
                "## Drop the Table\n",
                "\n",
                "While this has been fun, it is time to drop the table!"
            ],
            "metadata": {
                "azdata_cell_guid": "2239cb09-137b-4579-905b-1aa020793181"
            },
            "attachments": {}
        },
        {
            "cell_type": "code",
            "source": [
                "DROP TABLE JunkDB_STL_May2023.rachel.planned_makes"
            ],
            "metadata": {
                "azdata_cell_guid": "b3c7f6ea-ee26-46b3-9c2a-2f7a82c39699",
                "language": "sql"
            },
            "outputs": [
                {
                    "output_type": "display_data",
                    "data": {
                        "text/html": "Commands completed successfully."
                    },
                    "metadata": {}
                },
                {
                    "output_type": "display_data",
                    "data": {
                        "text/html": "Total execution time: 00:00:00.090"
                    },
                    "metadata": {}
                }
            ],
            "execution_count": 5
        },
        {
            "cell_type": "code",
            "source": [
                "SELECT * FROM JunkDB_STL_May2023.rachel.planned_makes"
            ],
            "metadata": {
                "language": "sql",
                "azdata_cell_guid": "d4fd519c-15c7-4266-80c7-dc4a59ff9674"
            },
            "outputs": [
                {
                    "output_type": "error",
                    "evalue": "Msg 208, Level 16, State 1, Line 1\nInvalid object name 'JunkDB_STL_May2023.rachel.planned_makes'.",
                    "ename": "",
                    "traceback": []
                },
                {
                    "output_type": "display_data",
                    "data": {
                        "text/html": "Total execution time: 00:00:00.090"
                    },
                    "metadata": {}
                }
            ],
            "execution_count": 6
        }
    ]
}